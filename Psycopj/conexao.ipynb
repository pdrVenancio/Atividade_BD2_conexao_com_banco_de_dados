{
 "cells": [
  {
   "cell_type": "markdown",
   "id": "91eb06f0",
   "metadata": {},
   "source": [
    "Informações completas sobre o pedido\n"
   ]
  },
  {
   "cell_type": "code",
   "execution_count": 1,
   "id": "d709bb6c",
   "metadata": {},
   "outputs": [],
   "source": [
    "import psycopg "
   ]
  },
  {
   "cell_type": "markdown",
   "id": "ba0edb78",
   "metadata": {},
   "source": [
    "Conexão com o banco "
   ]
  },
  {
   "cell_type": "code",
   "execution_count": 18,
   "id": "9be32f68",
   "metadata": {},
   "outputs": [
    {
     "name": "stdout",
     "output_type": "stream",
     "text": [
      "Conexão executada com sucesso\n"
     ]
    }
   ],
   "source": [
    "from psycopg import OperationalError\n",
    "try:\n",
    "    northwind = psycopg.connect(\n",
    "        host='localhost',\n",
    "        dbname='postgres', \n",
    "        user = 'postgres', \n",
    "        password = 'root'\n",
    "    )\n",
    "    print (\"Conexão executada com sucesso\")\n",
    "except OperationalError as e:\n",
    "    print(e)"
   ]
  },
  {
   "cell_type": "markdown",
   "id": "96bec860",
   "metadata": {},
   "source": [
    "Inserção do pedido\n"
   ]
  },
  {
   "cell_type": "code",
   "execution_count": 30,
   "id": "b48d1e64",
   "metadata": {},
   "outputs": [
    {
     "name": "stdout",
     "output_type": "stream",
     "text": [
      "11078\n"
     ]
    }
   ],
   "source": [
    "# TABELA orders\n",
    "\n",
    "# nome do cliente | custumerid\n",
    "custumerid = \"LILAS\"\n",
    "# nome do vendednor | employeeid\n",
    "employeeid = 9\n",
    "# dados do pedido |\n",
    "orderdate = \"1994-11-16 00:00:00\"\n",
    "requireddate = \"1994-11-28 00:00:00\"\n",
    "shippeddate =\"1994-11-28 00:00:00\"\n",
    "freight =12.7500\n",
    "shipname =\"LILA-Supermercado\"\n",
    "shipaddress =\"Carrera 52 con Ave. Bolar #65-98 Llano Largo\"\n",
    "shipcity =\"Lyon\"\n",
    "shipregion =\"Co. Cork\"\n",
    "shippostalcode =\"69004\"\n",
    "shipcountry =\"France\"\n",
    "shipperid = 1\n",
    "\n",
    "# TABELA order_details\n",
    "# itens do pedido |\n",
    "productid = 42\n",
    "unitprice = 9.8000\n",
    "quantity = 10\n",
    "discount = 0.0000\n",
    "\n",
    "try:\n",
    "    sessao = northwind.cursor()\n",
    "\n",
    "    sessao.execute(\"SELECT MAX(orderid) FROM northwind.orders\")\n",
    "    last_id_order = sessao.fetchone()[0]\n",
    "    new_order_id = int(last_id_order) + 1\n",
    "    print(new_order_id)\n",
    "\n",
    "    insert_order = f\"\"\"\n",
    "        INSERT INTO northwind.orders\n",
    "        (orderid, customerid, employeeid, orderdate, requireddate, shippeddate, freight, shipname, shipaddress, shipcity, shipregion, shippostalcode,   shipcountry, shipperid)\n",
    "        VALUES ({new_order_id}, {new_order_id}, '{employeeid}', '{orderdate}', '{requireddate}', '{shippeddate}', {freight}, '{shipname}', '{shipaddress}', '{shipcity}', '{shipregion}', '{shippostalcode}', '{shipcountry}', {shipperid});\n",
    "    \"\"\"\n",
    "            \n",
    "    insert_order_details = f\"\"\"\n",
    "        INSERT INTO northwind.order_details(orderid, productid, unitprice, quantity, discount)\n",
    "        VALUES ({new_order_id}, {productid}, {unitprice}, {quantity}, {discount});\n",
    "    \"\"\"\n",
    "\n",
    "    sessao.execute(insert_order)\n",
    "    sessao.execute(insert_order_details)\n",
    "\n",
    "    northwind.commit()\n",
    "except Exception as e:\n",
    "    print(\"Erro durante a execução:\", e)\n",
    "    northwind.rollback()\n",
    "\n",
    "\n",
    "\n"
   ]
  },
  {
   "cell_type": "code",
   "execution_count": 17,
   "id": "b76cb058",
   "metadata": {},
   "outputs": [],
   "source": [
    "northwind.close()"
   ]
  },
  {
   "cell_type": "markdown",
   "id": "ddcbe0cf",
   "metadata": {},
   "source": [
    "Informações comletas de um pedido "
   ]
  },
  {
   "cell_type": "code",
   "execution_count": 58,
   "id": "986a2335",
   "metadata": {},
   "outputs": [
    {
     "name": "stdout",
     "output_type": "stream",
     "text": [
      "PEDIDO\n",
      "\n",
      "        Numero pedido: 11077\n",
      "        Data Pedido: 1996-06-05 00:00:00\n",
      "        Nome do Cliente: Rattlesnake Canyon Grocery\n",
      "        Nome do vendedor: Nancy Davolio\n",
      "        \n",
      "\n",
      "ITENS DO PEDIDO\n",
      "\t1. Produto: Chang - Quantidade: 24 - Preço: 19.0000\n",
      "\t2. Produto: Aniseed Syrup - Quantidade: 4 - Preço: 10.0000\n",
      "\t3. Produto: Chef Anton's Cajun Seasoning - Quantidade: 1 - Preço: 22.0000\n",
      "\t4. Produto: Grandma's Boysenberry Spread - Quantidade: 1 - Preço: 25.0000\n",
      "\t5. Produto: Uncle Bob's Organic Dried Pears - Quantidade: 1 - Preço: 30.0000\n",
      "\t6. Produto: Northwoods Cranberry Sauce - Quantidade: 2 - Preço: 40.0000\n",
      "\t7. Produto: Ikura - Quantidade: 1 - Preço: 31.0000\n",
      "\t8. Produto: Queso Manchego La Pastora - Quantidade: 2 - Preço: 38.0000\n",
      "\t9. Produto: Konbu - Quantidade: 4 - Preço: 6.0000\n",
      "\t10. Produto: Tofu - Quantidade: 1 - Preço: 23.2500\n",
      "\t11. Produto: Pavlova - Quantidade: 2 - Preço: 17.4500\n",
      "\t12. Produto: Sir Rodney's Marmalade - Quantidade: 1 - Preço: 81.0000\n",
      "\t13. Produto: TunnbrÃ¶d - Quantidade: 2 - Preço: 9.0000\n",
      "\t14. Produto: Mascarpone Fabioli - Quantidade: 1 - Preço: 32.0000\n",
      "\t15. Produto: Chartreuse verte - Quantidade: 2 - Preço: 18.0000\n",
      "\t16. Produto: Jack's New England Clam Chowder - Quantidade: 3 - Preço: 9.6500\n",
      "\t17. Produto: Spegesild - Quantidade: 3 - Preço: 12.0000\n",
      "\t18. Produto: Filo Mix - Quantidade: 2 - Preço: 7.0000\n",
      "\t19. Produto: PÃ¢tÃ© chinois - Quantidade: 2 - Preço: 24.0000\n",
      "\t20. Produto: Camembert Pierrot - Quantidade: 2 - Preço: 34.0000\n",
      "\t21. Produto: Wimmers gute SemmelknÃ¶del - Quantidade: 2 - Preço: 33.2500\n",
      "\t22. Produto: Louisiana Hot Spiced Okra - Quantidade: 1 - Preço: 17.0000\n",
      "\t23. Produto: RÃ¶d Kaviar - Quantidade: 2 - Preço: 15.0000\n",
      "\t24. Produto: RhÃ¶nbrÃ¤u Klosterbier - Quantidade: 4 - Preço: 7.7500\n",
      "\t25. Produto: Original Frankfurter grÃ¼ne SoÃŸe - Quantidade: 2 - Preço: 13.0000\n"
     ]
    }
   ],
   "source": [
    "order = 11077\n",
    "\n",
    "try:\n",
    "    sessao = northwind.cursor()\n",
    "\n",
    "\n",
    "    select_orders = f\"\"\"\n",
    "        SELECT \n",
    "            ord.orderdate,\n",
    "            ord.orderid,\n",
    "            cus.companyname,\n",
    "            emp.firstname,\n",
    "            emp.lastname\t\n",
    "        FROM northwind.orders ord\n",
    "        LEFT JOIN northwind.customers cus ON ord.customerid = cus.customerid\n",
    "        LEFT JOIN northwind.employees emp ON ord.employeeid = emp.employeeid \n",
    "        WHERE ord.orderid = {order}\n",
    "    \"\"\"\n",
    "\n",
    "    select_orders_details = f\"\"\"\n",
    "        SELECT \n",
    "            pro.productname,\n",
    "            ode.quantity,\n",
    "            ode.unitprice\n",
    "        FROM northwind.order_details ode\n",
    "        LEFT JOIN northwind.products pro ON ode.productid = pro.productid \n",
    "        WHERE ode.orderid = {order}\n",
    "    \"\"\"\n",
    "\n",
    "    sessao.execute(select_orders)\n",
    "    print(\"PEDIDO\")\n",
    "    metadata_colunas_orders = [desc[0] for desc in sessao.description]\n",
    "    for prod in sessao:\n",
    "        dicionario = dict(zip(metadata_colunas_orders, prod))\n",
    "\n",
    "        print(f\"\"\"\n",
    "        Numero pedido: {dicionario['orderid']}\n",
    "        Data Pedido: {dicionario['orderdate']}\n",
    "        Nome do Cliente: {dicionario['companyname']}\n",
    "        Nome do vendedor: {dicionario['firstname']} {dicionario['lastname']}\n",
    "        \"\"\")\n",
    "    \n",
    "\n",
    "    sessao.execute(select_orders_details)\n",
    "    print(\"\\nITENS DO PEDIDO\")\n",
    "    metadata_colunas_orders_details = [desc[0] for desc in sessao.description]\n",
    "    for i, prod in enumerate(sessao):\n",
    "        dicionario = dict(zip(metadata_colunas_orders_details, prod))\n",
    "        print(f\"\"\"\\t{i+1}. Produto: {dicionario['productname']} - Quantidade: {dicionario['quantity']} - Preço: {dicionario['unitprice']}\"\"\")\n",
    "    \n",
    "    northwind.commit()\n",
    "except Exception as e:\n",
    "    print(\"Erro durante a execução:\", e)\n",
    "    northwind.rollback()"
   ]
  },
  {
   "cell_type": "markdown",
   "id": "186c86f2",
   "metadata": {},
   "source": [
    "Ranking dos funcionários por intervalo de tempo"
   ]
  },
  {
   "cell_type": "code",
   "execution_count": 60,
   "id": "178a1a24",
   "metadata": {},
   "outputs": [
    {
     "name": "stdout",
     "output_type": "stream",
     "text": [
      "\n",
      "RANKING FUNCIONARIOS\n",
      "\t1. Nome: Margaret Peacock - Quantidade: 287 - Valor total: 7293.0000\n",
      "\t2. Nome: Nancy Davolio - Quantidade: 299 - Valor total: 7053.7500\n",
      "\t3. Nome: Laura Callahan - Quantidade: 138 - Valor total: 3223.3600\n",
      "\t4. Nome: Andrew Fuller - Quantidade: 154 - Valor total: 2439.5000\n",
      "\t5. Nome: Janet Leverling - Quantidade: 100 - Valor total: 1445.5000\n",
      "\t6. Nome: Robert King - Quantidade: 94 - Valor total: 1173.0500\n"
     ]
    }
   ],
   "source": [
    "data_inicio = '1996-05-30 00:00:00' \n",
    "data_fim = '1996-06-05 00:00:00'\n",
    "\n",
    "try:\n",
    "    sessao = northwind.cursor()\n",
    "    select_ranking = f\"\"\"\n",
    "        SELECT \n",
    "            emp.firstname,\n",
    "            emp.lastname,\n",
    "            SUM(ode.quantity) AS soma_qtd,\n",
    "            SUM(ode.unitprice * ode.quantity) AS valor_total\n",
    "        FROM northwind.orders ord\n",
    "        LEFT JOIN northwind.order_details ode ON ord.orderid = ode.orderid\n",
    "        LEFT JOIN northwind.employees emp ON ord.employeeid = emp.employeeid\n",
    "        WHERE ord.orderdate BETWEEN '1996-05-30 00:00:00' AND '1996-06-05 00:00:00'\n",
    "        GROUP BY emp.firstname, emp.lastname\n",
    "        ORDER BY valor_total DESC;\n",
    "    \"\"\"\n",
    "\n",
    "    sessao.execute(select_ranking)\n",
    "\n",
    "    print(\"\\nRANKING FUNCIONARIOS\")\n",
    "    metadata_colunas_orders_details = [desc[0] for desc in sessao.description]\n",
    "    for i, prod in enumerate(sessao):\n",
    "        dicionario = dict(zip(metadata_colunas_orders_details, prod))\n",
    "        print(f\"\"\"\\t{i+1}. Nome: {dicionario['firstname']} {dicionario['lastname']} - Quantidade: {dicionario['soma_qtd']} - Valor total: {dicionario['valor_total']}\"\"\")\n",
    "    \n",
    "    northwind.commit()\n",
    "except Exception as e:\n",
    "    print(\"Erro durante a execução:\", e)\n",
    "    northwind.rollback()\n",
    "\n"
   ]
  }
 ],
 "metadata": {
  "kernelspec": {
   "display_name": "Python 3",
   "language": "python",
   "name": "python3"
  },
  "language_info": {
   "codemirror_mode": {
    "name": "ipython",
    "version": 3
   },
   "file_extension": ".py",
   "mimetype": "text/x-python",
   "name": "python",
   "nbconvert_exporter": "python",
   "pygments_lexer": "ipython3",
   "version": "3.13.3"
  }
 },
 "nbformat": 4,
 "nbformat_minor": 5
}
